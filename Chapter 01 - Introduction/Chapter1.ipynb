{
  "cells": [
    {
      "cell_type": "markdown",
      "metadata": {
        "id": "EG2iJgbQWT98"
      },
      "source": [
        "# Chapter 1 - Introduction: Key Concepts, Notation, Set Theory, Relations, and Functions\n",
        "\n",
        "This notebook contains code accompanying Chapter 1 Introduction: Key Concepts, Notation, Set Theory, Relations, and Functions in *Practical Discrete Mathematics* by Ryan T. White and Archana Tikayat Ray\n",
        "\n",
        "## Functions and Relations\n",
        "\n",
        "### The `sort()` function"
      ]
    },
    {
      "cell_type": "code",
      "execution_count": null,
      "metadata": {
        "id": "PBd9AlKiWT99",
        "outputId": "32291699-530a-40c2-a824-1f21fd0dfb6e"
      },
      "outputs": [
        {
          "name": "stdout",
          "output_type": "stream",
          "text": [
            "[1, 2, 3, 4, 5, 8, 9, 12]\n",
            "['Brandon', 'Elise', 'Eugene', 'Kumar', 'Wyatt']\n"
          ]
        }
      ],
      "source": [
        "numbers = [3, 1, 4, 12, 8, 5, 2, 9]\n",
        "names = ['Wyatt', 'Brandon', 'Kumar', 'Eugene', 'Elise']\n",
        "\n",
        "# Apply the sort() function to the lists\n",
        "numbers.sort()\n",
        "names.sort()\n",
        "\n",
        "# Display the output\n",
        "print(numbers)\n",
        "print(names)"
      ]
    },
    {
      "cell_type": "markdown",
      "metadata": {
        "id": "bcgEnDpEWT9-"
      },
      "source": [
        "### The `shuffle()` function"
      ]
    },
    {
      "cell_type": "code",
      "execution_count": null,
      "metadata": {
        "id": "Y8_zLNNFWT9-",
        "outputId": "5295ab69-d896-4849-ff8a-24f6bbf0d5c7"
      },
      "outputs": [
        {
          "name": "stdout",
          "output_type": "stream",
          "text": [
            "[12, 2, 1, 5, 9, 3, 8, 4]\n",
            "[4, 2, 8, 3, 1, 12, 5, 9]\n",
            "[4, 5, 1, 9, 3, 8, 12, 2]\n",
            "[9, 12, 2, 8, 5, 3, 4, 1]\n",
            "[9, 8, 4, 3, 12, 1, 5, 2]\n"
          ]
        }
      ],
      "source": [
        "import random\n",
        "\n",
        "# Set a random seed so the code is reproducible\n",
        "random.seed(1)\n",
        "\n",
        "# Run the random.shuffle() function 5 times and display the outputs\n",
        "for i in range(0,5):\n",
        "    numbers = [3, 1, 4, 12, 8, 5, 2, 9]\n",
        "    random.shuffle(numbers)\n",
        "    print(numbers)"
      ]
    },
    {
      "cell_type": "code",
      "source": [
        "# This code will prompt the user to enter their name and then greet them\n",
        "\n",
        "# Taking user input\n",
        "user_name = input(\"Enter your name: \")\n",
        "\n",
        "# Displaying the greeting message\n",
        "print(f\"Hello, {user_name}! Welcome to Google Colab.\")"
      ],
      "metadata": {
        "id": "7eBJup7zWeyh",
        "outputId": "779fd0bb-bd31-485e-d44d-eebdc7ad037e",
        "colab": {
          "base_uri": "https://localhost:8080/"
        }
      },
      "execution_count": 1,
      "outputs": [
        {
          "output_type": "stream",
          "name": "stdout",
          "text": [
            "Enter your name: rongbin\n",
            "Hello, rongbin! Welcome to Google Colab.\n"
          ]
        }
      ]
    },
    {
      "cell_type": "code",
      "source": [
        "import itertools\n",
        "\n",
        "# Define propositions\n",
        "propositions = ['P', 'Q']\n",
        "\n",
        "# Generate all combinations of truth values\n",
        "truth_values = list(itertools.product([True, False], repeat=len(propositions)))\n",
        "\n",
        "# Define logical expressions\n",
        "def evaluate_expressions(P, Q):\n",
        "    return {\n",
        "        'P AND Q': P and Q,\n",
        "        'P OR Q': P or Q,\n",
        "        'NOT P': not P,\n",
        "        'P -> Q': not P or Q,  # Implication\n",
        "        'P <-> Q': P == Q      # Biconditional\n",
        "    }\n",
        "\n",
        "# Create the truth table\n",
        "truth_table = []\n",
        "\n",
        "for values in truth_values:\n",
        "    P, Q = values\n",
        "    result = evaluate_expressions(P, Q)\n",
        "    truth_table.append((P, Q, result))\n",
        "\n",
        "# Display the truth table\n",
        "for row in truth_table:\n",
        "    P, Q, result = row\n",
        "    print(f\"P: {P}, Q: {Q}, Results: {result}\")\n",
        "\n",
        "    print(f\"P: {P}, Q: {Q}, Results: {result}\")"
      ],
      "metadata": {
        "id": "lXQ5w5JoXkAw",
        "outputId": "bbe8937f-c41c-4775-94f5-59adec35b25a",
        "colab": {
          "base_uri": "https://localhost:8080/"
        }
      },
      "execution_count": 3,
      "outputs": [
        {
          "output_type": "stream",
          "name": "stdout",
          "text": [
            "P: True, Q: True, Results: {'P AND Q': True, 'P OR Q': True, 'NOT P': False, 'P -> Q': True, 'P <-> Q': True}\n",
            "P: True, Q: True, Results: {'P AND Q': True, 'P OR Q': True, 'NOT P': False, 'P -> Q': True, 'P <-> Q': True}\n",
            "P: True, Q: False, Results: {'P AND Q': False, 'P OR Q': True, 'NOT P': False, 'P -> Q': False, 'P <-> Q': False}\n",
            "P: True, Q: False, Results: {'P AND Q': False, 'P OR Q': True, 'NOT P': False, 'P -> Q': False, 'P <-> Q': False}\n",
            "P: False, Q: True, Results: {'P AND Q': False, 'P OR Q': True, 'NOT P': True, 'P -> Q': True, 'P <-> Q': False}\n",
            "P: False, Q: True, Results: {'P AND Q': False, 'P OR Q': True, 'NOT P': True, 'P -> Q': True, 'P <-> Q': False}\n",
            "P: False, Q: False, Results: {'P AND Q': False, 'P OR Q': False, 'NOT P': True, 'P -> Q': True, 'P <-> Q': True}\n",
            "P: False, Q: False, Results: {'P AND Q': False, 'P OR Q': False, 'NOT P': True, 'P -> Q': True, 'P <-> Q': True}\n"
          ]
        }
      ]
    },
    {
      "cell_type": "code",
      "source": [
        "import itertools\n",
        "import pandas as pd\n",
        "\n",
        "# Function to evaluate the logical expression\n",
        "def evaluate_expression(expression, values):\n",
        "    P, Q = values\n",
        "    return eval(expression)\n",
        "\n",
        "# Function to generate the truth table\n",
        "def generate_truth_table(expression):\n",
        "    # Define propositions\n",
        "    propositions = ['P', 'Q']\n",
        "\n",
        "    # Generate all combinations of truth values\n",
        "    truth_values = list(itertools.product([True, False], repeat=len(propositions)))\n",
        "\n",
        "    # Create the truth table\n",
        "    truth_table = []\n",
        "\n",
        "    for values in truth_values:\n",
        "        result = evaluate_expression(expression, values)\n",
        "        truth_table.append((values[0], values[1], result))\n",
        "\n",
        "    # Convert to DataFrame\n",
        "    df = pd.DataFrame(truth_table, columns=['P', 'Q', expression])\n",
        "\n",
        "    return df\n",
        "\n",
        "# Take user input for the logical expression\n",
        "user_input = input(\"Enter a logical expression (e.g., 'P and Q or not P'): \")\n",
        "\n",
        "# Generate the truth table\n",
        "truth_table_df = generate_truth_table(user_input)\n",
        "\n",
        "# Display the truth table\n",
        "print(truth_table_df)\n"
      ],
      "metadata": {
        "id": "_E_Ta5uzeFB0",
        "outputId": "d3e2ab55-6fa1-4d68-fddf-7d95fb85e783",
        "colab": {
          "base_uri": "https://localhost:8080/"
        }
      },
      "execution_count": 15,
      "outputs": [
        {
          "output_type": "stream",
          "name": "stdout",
          "text": [
            "Enter a logical expression (e.g., 'P and Q or not P'): P and Q and P\n",
            "       P      Q  P and Q and P\n",
            "0   True   True           True\n",
            "1   True  False          False\n",
            "2  False   True          False\n",
            "3  False  False          False\n"
          ]
        }
      ]
    }
  ],
  "metadata": {
    "kernelspec": {
      "display_name": "Python 3.7 (DL)",
      "language": "python",
      "name": "dl"
    },
    "language_info": {
      "codemirror_mode": {
        "name": "ipython",
        "version": 3
      },
      "file_extension": ".py",
      "mimetype": "text/x-python",
      "name": "python",
      "nbconvert_exporter": "python",
      "pygments_lexer": "ipython3",
      "version": "3.7.7"
    },
    "colab": {
      "provenance": []
    }
  },
  "nbformat": 4,
  "nbformat_minor": 0
}